{
 "cells": [
  {
   "cell_type": "markdown",
   "id": "a9a37a5f",
   "metadata": {},
   "source": [
    "# Spam Detection - Model Training"
   ]
  },
  {
   "cell_type": "code",
   "execution_count": null,
   "id": "87e9a6da",
   "metadata": {},
   "outputs": [],
   "source": [
    "import sys\n",
    "import os\n",
    "\n",
    "project_root = os.path.abspath(os.path.join('..', '..'))\n",
    "if project_root not in sys.path:\n",
    "    sys.path.append(project_root)"
   ]
  },
  {
   "cell_type": "code",
   "execution_count": null,
   "id": "e9b425e2",
   "metadata": {},
   "outputs": [],
   "source": [
    "import pandas as pd\n",
    "import numpy as np\n",
    "import matplotlib.pyplot as plt\n",
    "import seaborn as sns\n",
    "import joblib\n",
    "\n",
    "from sklearn.model_selection import train_test_split, cross_val_score\n",
    "from sklearn.metrics import classification_report, accuracy_score, precision_score, recall_score, f1_score\n",
    "\n",
    "from sklearn.linear_model import LogisticRegression\n",
    "from sklearn.tree import DecisionTreeClassifier\n",
    "from sklearn.naive_bayes import BernoulliNB\n",
    "from sklearn.svm import SVC\n",
    "from sklearn.ensemble import RandomForestClassifier\n",
    "\n",
    "from src.utils import load_config, get_project_root, get_confusion_matrix"
   ]
  },
  {
   "cell_type": "code",
   "execution_count": null,
   "id": "f6474dd5",
   "metadata": {},
   "outputs": [],
   "source": [
    "config = load_config()\n",
    "\n",
    "train_path = config['data']['task1']['processed']['train']\n",
    "model_path = config['data']['task1']['models']\n",
    "\n",
    "processed_train_path = os.path.join(get_project_root(), train_path.replace('/', os.sep), \"spam_detection_train_processed_features.csv\")\n",
    "selected_model_path = os.path.join(get_project_root(), model_path.replace('/', os.sep))\n",
    "\n",
    "train_df = pd.read_csv(processed_train_path)"
   ]
  },
  {
   "cell_type": "code",
   "execution_count": null,
   "id": "0c10d8a2",
   "metadata": {},
   "outputs": [],
   "source": [
    "feature_cols = [\n",
    "    'text_length', 'word_count', 'special_char_count', 'exclamation_density',\n",
    "    'uppercase_ratio', 'avg_sentence_length', 'punctuation_density',\n",
    "    'vocabulary_richness', 'marketing_keyword_count'\n",
    "]\n",
    "X = train_df[feature_cols]\n",
    "y = train_df['label']\n",
    "\n",
    "X_train, X_val, y_train, y_val = train_test_split(X, y, test_size=0.2, random_state=42)"
   ]
  },
  {
   "cell_type": "code",
   "execution_count": null,
   "id": "0f8f55e4",
   "metadata": {},
   "outputs": [],
   "source": [
    "models = {\n",
    "    'Logistic Regression': LogisticRegression(max_iter=1000),\n",
    "    'Decision Tree': DecisionTreeClassifier(max_depth=5),\n",
    "    'Bernoulli Naive Bayes': BernoulliNB(),\n",
    "    'SVC': SVC(kernel='sigmoid'),\n",
    "    'Random Forest': RandomForestClassifier(random_state=2)\n",
    "}"
   ]
  },
  {
   "cell_type": "code",
   "execution_count": null,
   "id": "ba6571f5",
   "metadata": {},
   "outputs": [],
   "source": [
    "results = []\n",
    "best_model = None\n",
    "best_f1 = 0"
   ]
  },
  {
   "cell_type": "code",
   "execution_count": null,
   "id": "23b79022",
   "metadata": {},
   "outputs": [],
   "source": [
    "for name, model in models.items():\n",
    "    model.fit(X_train, y_train)\n",
    "    y_pred = model.predict(X_val)\n",
    "    \n",
    "    acc = accuracy_score(y_val, y_pred)\n",
    "    prec = precision_score(y_val, y_pred)\n",
    "    rec = recall_score(y_val, y_pred)\n",
    "    f1 = f1_score(y_val, y_pred)\n",
    "    \n",
    "    results.append({'Model': name, 'Accuracy': acc, 'Precision': prec, 'Recall': rec, 'F1': f1})\n",
    "    \n",
    "    print(f\"\\n{name} Classification Report:\")\n",
    "    print(classification_report(y_val, y_pred))\n",
    "\n",
    "    conf_matrix = get_confusion_matrix(y_val, y_pred)\n",
    "    print(f\"\\nConfusion Matrix for {name}:\\n{conf_matrix}\")\n",
    "\n",
    "    if f1 > best_f1:\n",
    "        best_f1 = f1\n",
    "        best_model = model"
   ]
  },
  {
   "cell_type": "code",
   "execution_count": null,
   "id": "e463f709",
   "metadata": {},
   "outputs": [],
   "source": [
    "results_df = pd.DataFrame(results)\n",
    "results_df.set_index('Model').plot(kind='bar', figsize=(12,6), title='Model Comparison')\n",
    "plt.xticks(rotation=45)\n",
    "plt.grid(True)\n",
    "plt.tight_layout()\n",
    "plt.show()"
   ]
  },
  {
   "cell_type": "code",
   "execution_count": null,
   "id": "37858333",
   "metadata": {},
   "outputs": [],
   "source": [
    "print(f\"Best Model: {best_model}\")"
   ]
  },
  {
   "cell_type": "code",
   "execution_count": null,
   "id": "12582e6b",
   "metadata": {},
   "outputs": [],
   "source": [
    "filename = \"best_model.pkl\"\n",
    "\n",
    "os.makedirs(selected_model_path, exist_ok=True)\n",
    "    \n",
    "full_path = os.path.join(selected_model_path, filename)\n",
    "\n",
    "joblib.dump(best_model, full_path)\n",
    "print(f\"Model Saved: {full_path}\")"
   ]
  }
 ],
 "metadata": {
  "kernelspec": {
   "display_name": "venv",
   "language": "python",
   "name": "python3"
  },
  "language_info": {
   "codemirror_mode": {
    "name": "ipython",
    "version": 3
   },
   "file_extension": ".py",
   "mimetype": "text/x-python",
   "name": "python",
   "nbconvert_exporter": "python",
   "pygments_lexer": "ipython3",
   "version": "3.13.3"
  }
 },
 "nbformat": 4,
 "nbformat_minor": 5
}
