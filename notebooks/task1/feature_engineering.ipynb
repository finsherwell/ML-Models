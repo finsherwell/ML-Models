{
 "cells": [
  {
   "cell_type": "markdown",
   "id": "a53a510d",
   "metadata": {},
   "source": [
    "# Spam Detection - Feature Engineering"
   ]
  },
  {
   "cell_type": "code",
   "execution_count": null,
   "id": "feafbaab",
   "metadata": {},
   "outputs": [],
   "source": [
    "import sys\n",
    "import os\n",
    "\n",
    "project_root = os.path.abspath(os.path.join('..', '..'))\n",
    "if project_root not in sys.path:\n",
    "    sys.path.append(project_root)"
   ]
  },
  {
   "cell_type": "code",
   "execution_count": null,
   "id": "f6d26b29",
   "metadata": {},
   "outputs": [],
   "source": [
    "import pandas as pd\n",
    "import numpy as np\n",
    "import nltk\n",
    "\n",
    "nltk.download('punkt')\n",
    "\n",
    "from nltk.tokenize import word_tokenize, sent_tokenize\n",
    "from src.utils import load_config, get_project_root, save_as_csv"
   ]
  },
  {
   "cell_type": "code",
   "execution_count": null,
   "id": "92218ae0",
   "metadata": {},
   "outputs": [],
   "source": [
    "config = load_config()\n",
    "\n",
    "train_path = config['data']['task1']['processed']['train']\n",
    "test_path = config['data']['task1']['processed']['test']\n",
    "\n",
    "processed_train_data = os.path.join(get_project_root(), train_path.replace('/', os.sep), \"spam_detection_train_processed.csv\")\n",
    "processed_test_data = os.path.join(get_project_root(), test_path.replace('/', os.sep), \"spam_detection_test_processed.csv\")\n",
    "\n",
    "train_df = pd.read_csv(processed_train_data)\n",
    "test_df = pd.read_csv(processed_test_data)"
   ]
  },
  {
   "cell_type": "markdown",
   "id": "db25e316",
   "metadata": {},
   "source": [
    "## 1. Feature Functions"
   ]
  },
  {
   "cell_type": "code",
   "execution_count": null,
   "id": "219889b8",
   "metadata": {},
   "outputs": [],
   "source": [
    "def special_char_count(text):\n",
    "    return sum(1 for c in text if c in \"!@#$%^&*()[]{};:,.<>?/|\\\\`~-=+\")"
   ]
  },
  {
   "cell_type": "code",
   "execution_count": null,
   "id": "c90a8c59",
   "metadata": {},
   "outputs": [],
   "source": [
    "def exclamation_density(text):\n",
    "    return text.count('!') / max(len(text), 1)"
   ]
  },
  {
   "cell_type": "code",
   "execution_count": null,
   "id": "20e146d4",
   "metadata": {},
   "outputs": [],
   "source": [
    "def uppercase_ratio(text):\n",
    "    words = text.split()\n",
    "    return sum(1 for word in words if word.isupper()) / len(words) if words else 0"
   ]
  },
  {
   "cell_type": "code",
   "execution_count": null,
   "id": "c04873c5",
   "metadata": {},
   "outputs": [],
   "source": [
    "def avg_sentence_length(text):\n",
    "    sentences = sent_tokenize(text)\n",
    "    return sum(len(word_tokenize(s)) for s in sentences) / len(sentences) if sentences else 0"
   ]
  },
  {
   "cell_type": "code",
   "execution_count": null,
   "id": "5db023ec",
   "metadata": {},
   "outputs": [],
   "source": [
    "def punctuation_density(text):\n",
    "    punctuation = '.,!?;:'\n",
    "    return sum(1 for c in text if c in punctuation) / max(len(text), 1)"
   ]
  },
  {
   "cell_type": "code",
   "execution_count": null,
   "id": "f6bb5311",
   "metadata": {},
   "outputs": [],
   "source": [
    "def vocabulary_richness(text):\n",
    "    words = word_tokenize(text)\n",
    "    if not words:\n",
    "        return 0\n",
    "    return len(set(words)) / len(words)"
   ]
  },
  {
   "cell_type": "code",
   "execution_count": null,
   "id": "4c2195cb",
   "metadata": {},
   "outputs": [],
   "source": [
    "def marketing_keyword_count(text, keywords=None):\n",
    "    if keywords is None:\n",
    "        keywords = [\"free\", \"offer\", \"buy\", \"click\", \"win\", \"limited\", \"cash\", \"deal\"]\n",
    "    tokens = word_tokenize(text.lower())\n",
    "    return sum(1 for word in tokens if word in keywords)"
   ]
  },
  {
   "cell_type": "markdown",
   "id": "3f4fb80e",
   "metadata": {},
   "source": [
    "## 2. Apply Features"
   ]
  },
  {
   "cell_type": "code",
   "execution_count": null,
   "id": "59dc579e",
   "metadata": {},
   "outputs": [],
   "source": [
    "for df in [train_df, test_df]:\n",
    "    df['text_length'] = df['clean_text'].apply(len)\n",
    "    df['word_count'] = df['clean_text'].apply(lambda x: len(word_tokenize(x)))\n",
    "    df['special_char_count'] = df['clean_text'].apply(special_char_count)\n",
    "    df['exclamation_density'] = df['clean_text'].apply(exclamation_density)\n",
    "    df['uppercase_ratio'] = df['clean_text'].apply(uppercase_ratio)\n",
    "    df['avg_sentence_length'] = df['clean_text'].apply(avg_sentence_length)\n",
    "    df['punctuation_density'] = df['clean_text'].apply(punctuation_density)\n",
    "    df['vocabulary_richness'] = df['clean_text'].apply(vocabulary_richness)\n",
    "    df['marketing_keyword_count'] = df['clean_text'].apply(marketing_keyword_count)"
   ]
  },
  {
   "cell_type": "code",
   "execution_count": null,
   "id": "589ea19b",
   "metadata": {},
   "outputs": [],
   "source": [
    "train_df.head()"
   ]
  },
  {
   "cell_type": "code",
   "execution_count": null,
   "id": "3026a4e1",
   "metadata": {},
   "outputs": [],
   "source": [
    "test_df.head()"
   ]
  },
  {
   "cell_type": "markdown",
   "id": "ab16f498",
   "metadata": {},
   "source": [
    "## 3. Inspect Example Rows"
   ]
  },
  {
   "cell_type": "code",
   "execution_count": null,
   "id": "caa444fc",
   "metadata": {},
   "outputs": [],
   "source": [
    "train_df[['label', 'clean_text', 'text_length', 'word_count', 'special_char_count', 'exclamation_density', 'uppercase_ratio', 'avg_sentence_length', 'punctuation_density', 'vocabulary_richness', 'marketing_keyword_count']].head()"
   ]
  },
  {
   "cell_type": "markdown",
   "id": "731ba01b",
   "metadata": {},
   "source": [
    "## 4. Save Engineered Data"
   ]
  },
  {
   "cell_type": "code",
   "execution_count": null,
   "id": "d0614815",
   "metadata": {},
   "outputs": [],
   "source": [
    "save_as_csv(train_df, os.path.join(get_project_root(), train_path.replace('/', os.sep)), \"spam_detection_train_processed_features.csv\")\n",
    "save_as_csv(test_df, os.path.join(get_project_root(), test_path.replace('/', os.sep)), \"spam_detection_test_processed_features.csv\")"
   ]
  }
 ],
 "metadata": {
  "kernelspec": {
   "display_name": "venv",
   "language": "python",
   "name": "python3"
  },
  "language_info": {
   "codemirror_mode": {
    "name": "ipython",
    "version": 3
   },
   "file_extension": ".py",
   "mimetype": "text/x-python",
   "name": "python",
   "nbconvert_exporter": "python",
   "pygments_lexer": "ipython3",
   "version": "3.13.3"
  }
 },
 "nbformat": 4,
 "nbformat_minor": 5
}
