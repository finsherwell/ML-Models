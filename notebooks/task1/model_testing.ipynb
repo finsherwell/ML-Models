{
 "cells": [
  {
   "cell_type": "markdown",
   "id": "43392e50",
   "metadata": {},
   "source": [
    "# Spam Detection - Model Testing"
   ]
  },
  {
   "cell_type": "markdown",
   "id": "ba96e969",
   "metadata": {},
   "source": [
    "- Add the project's root directory (two levels up) to the Python path so the modules can be imported, even if they arent in the current working directory:"
   ]
  },
  {
   "cell_type": "code",
   "execution_count": null,
   "id": "305ea0ea",
   "metadata": {},
   "outputs": [],
   "source": [
    "import sys\n",
    "import os\n",
    "\n",
    "project_root = os.path.abspath(os.path.join('..', '..'))\n",
    "if project_root not in sys.path:\n",
    "    sys.path.append(project_root)"
   ]
  },
  {
   "cell_type": "markdown",
   "id": "c7e7a52b",
   "metadata": {},
   "source": [
    "- Import the required libraries and modules, as well as our utility functions:"
   ]
  },
  {
   "cell_type": "code",
   "execution_count": null,
   "id": "2efdc918",
   "metadata": {},
   "outputs": [],
   "source": [
    "import pandas as pd\n",
    "import joblib\n",
    "\n",
    "from src.utils import load_config, get_project_root, save_as_csv"
   ]
  },
  {
   "cell_type": "markdown",
   "id": "9993838c",
   "metadata": {},
   "source": [
    "- Load the config using the utility function. Get paths to relevant folders/files needed to save and retrieve files:"
   ]
  },
  {
   "cell_type": "code",
   "execution_count": null,
   "id": "989ab709",
   "metadata": {},
   "outputs": [],
   "source": [
    "config = load_config()\n",
    "\n",
    "test_path = config['data']['task1']['processed']['test']\n",
    "model_path = os.path.join(get_project_root(), config['data']['task1']['models'], 'best_model.pkl')\n",
    "output_path = os.path.join(get_project_root(), config['data']['task1']['results'])\n",
    "\n",
    "processed_features_test_path = os.path.join(get_project_root(), test_path, \"spam_detection_test_processed_features.csv\")"
   ]
  },
  {
   "cell_type": "markdown",
   "id": "0c8fba3b",
   "metadata": {},
   "source": [
    "- Load the test CSV data file into a dataframe. Also, load the previously trained model so we can apply the data to it:"
   ]
  },
  {
   "cell_type": "code",
   "execution_count": null,
   "id": "81bf6bc6",
   "metadata": {},
   "outputs": [],
   "source": [
    "test_df = pd.read_csv(processed_features_test_path)\n",
    "model = joblib.load(model_path)"
   ]
  },
  {
   "cell_type": "markdown",
   "id": "884bd6fd",
   "metadata": {},
   "source": [
    "- Drop clean text column as it is not necessary for model predicting nor is it consistent. Make predictions on test data:"
   ]
  },
  {
   "cell_type": "code",
   "execution_count": null,
   "id": "5a0f0f51",
   "metadata": {},
   "outputs": [],
   "source": [
    "X_test = test_df.drop(columns=['clean_text', 'text'], errors='ignore')\n",
    "predictions = model.predict(X_test)"
   ]
  },
  {
   "cell_type": "markdown",
   "id": "f299f6df",
   "metadata": {},
   "source": [
    "- Keep just the clean text of the test data and the new prediction - our label. We also want to put the label first, this just makes it easier to read and more consistent with original formatting:"
   ]
  },
  {
   "cell_type": "code",
   "execution_count": null,
   "id": "cebffd15",
   "metadata": {},
   "outputs": [],
   "source": [
    "test_df['label'] = predictions\n",
    "ordered_cols = ['label'] + [col for col in test_df.columns if col != 'label']\n",
    "test_df = test_df[ordered_cols]"
   ]
  },
  {
   "cell_type": "markdown",
   "id": "cec27e35",
   "metadata": {},
   "source": [
    "- Inspect a few for testing purposes:"
   ]
  },
  {
   "cell_type": "code",
   "execution_count": null,
   "id": "ed92cf19",
   "metadata": {},
   "outputs": [],
   "source": [
    "keep_columns = ['label', 'text']"
   ]
  },
  {
   "cell_type": "code",
   "execution_count": null,
   "id": "ebdab628",
   "metadata": {},
   "outputs": [],
   "source": [
    "print(test_df[keep_columns].head(30)) "
   ]
  },
  {
   "cell_type": "markdown",
   "id": "186d1d20",
   "metadata": {},
   "source": [
    "- Make it so that the dataframe being saved only consists of the predicted label - this should allow for correct marking, where we can compare expected label with predicted label based on the message."
   ]
  },
  {
   "cell_type": "code",
   "execution_count": null,
   "id": "5972d8d4",
   "metadata": {},
   "outputs": [],
   "source": [
    "final_df = test_df[['label']]"
   ]
  },
  {
   "cell_type": "markdown",
   "id": "867af00f",
   "metadata": {},
   "source": [
    "- Save the results dataframe to the specified file location:"
   ]
  },
  {
   "cell_type": "code",
   "execution_count": null,
   "id": "6c80f5ff",
   "metadata": {},
   "outputs": [],
   "source": [
    "save_as_csv(final_df, output_path, \"results.csv\")\n",
    "\n",
    "print(f\"Results Saved\")"
   ]
  }
 ],
 "metadata": {
  "kernelspec": {
   "display_name": "venv",
   "language": "python",
   "name": "python3"
  },
  "language_info": {
   "codemirror_mode": {
    "name": "ipython",
    "version": 3
   },
   "file_extension": ".py",
   "mimetype": "text/x-python",
   "name": "python",
   "nbconvert_exporter": "python",
   "pygments_lexer": "ipython3",
   "version": "3.12.4"
  }
 },
 "nbformat": 4,
 "nbformat_minor": 5
}
