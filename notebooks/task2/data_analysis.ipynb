{
 "cells": [
  {
   "cell_type": "markdown",
   "id": "78307873",
   "metadata": {},
   "source": [
    "# Face Alignment - Data Analysis"
   ]
  },
  {
   "cell_type": "markdown",
   "id": "ff189e76",
   "metadata": {},
   "source": [
    "- Add the project's root directory (two levels up) to the Python path so the modules can be imported, even if they arent in the current working directory:"
   ]
  },
  {
   "cell_type": "code",
   "execution_count": null,
   "id": "97ba0a9b",
   "metadata": {},
   "outputs": [],
   "source": [
    "import sys\n",
    "import os\n",
    "\n",
    "project_root = os.path.abspath(os.path.join('..', '..'))\n",
    "if project_root not in sys.path:\n",
    "    sys.path.append(project_root)"
   ]
  },
  {
   "cell_type": "markdown",
   "id": "e3d18a3c",
   "metadata": {},
   "source": [
    "- Import the required libraries and modules, as well as our utility functions:"
   ]
  },
  {
   "cell_type": "code",
   "execution_count": null,
   "id": "73c19d89",
   "metadata": {},
   "outputs": [],
   "source": [
    "import matplotlib.pyplot as plt\n",
    "import numpy as np\n",
    "import seaborn as sns\n",
    "\n",
    "from src.utils import load_config, get_project_root"
   ]
  },
  {
   "cell_type": "markdown",
   "id": "09a28cec",
   "metadata": {},
   "source": [
    "## 1. Data Loading and Exploration"
   ]
  },
  {
   "cell_type": "markdown",
   "id": "96dc65ed",
   "metadata": {},
   "source": [
    "- Load the config using the utility function. Get paths to relevant folders/files needed to save and retrieve files:"
   ]
  },
  {
   "cell_type": "code",
   "execution_count": null,
   "id": "3b4a3271",
   "metadata": {},
   "outputs": [],
   "source": [
    "config = load_config()\n",
    "\n",
    "train_data_path = os.path.join(get_project_root(), config['data']['task2']['raw']['train'])\n",
    "test_data_path = os.path.join(get_project_root(), config['data']['task2']['raw']['test'])\n",
    "\n",
    "raw_test_data = os.path.join(get_project_root(), test_data_path.replace('/', os.sep))\n",
    "raw_train_data = os.path.join(get_project_root(), train_data_path.replace('/', os.sep))"
   ]
  },
  {
   "cell_type": "markdown",
   "id": "20151f79",
   "metadata": {},
   "source": [
    "- Load the training data, reference the images and image landmarks:"
   ]
  },
  {
   "cell_type": "code",
   "execution_count": null,
   "id": "38d9c42f",
   "metadata": {},
   "outputs": [],
   "source": [
    "data = np.load(raw_train_data, allow_pickle=True)\n",
    "images = data['images']\n",
    "pts = data['points']"
   ]
  },
  {
   "cell_type": "markdown",
   "id": "ede06cc5",
   "metadata": {},
   "source": [
    "- Print some key information about our images and points:"
   ]
  },
  {
   "cell_type": "code",
   "execution_count": null,
   "id": "eb9ca211",
   "metadata": {},
   "outputs": [],
   "source": [
    "print(\"Training images shape:\", images.shape)\n",
    "print(\"Landmark points shape:\", pts.shape)"
   ]
  },
  {
   "cell_type": "markdown",
   "id": "595ddbb3",
   "metadata": {},
   "source": [
    "- Load the test data, reference the images:"
   ]
  },
  {
   "cell_type": "code",
   "execution_count": null,
   "id": "d9963462",
   "metadata": {},
   "outputs": [],
   "source": [
    "test_data = np.load(raw_test_data, allow_pickle=True)\n",
    "test_images = test_data['images']"
   ]
  },
  {
   "cell_type": "markdown",
   "id": "984587fa",
   "metadata": {},
   "source": [
    "- Print some key information about our images:"
   ]
  },
  {
   "cell_type": "code",
   "execution_count": null,
   "id": "b26f9d4b",
   "metadata": {},
   "outputs": [],
   "source": [
    "print(\"Test images shape:\", test_images.shape)"
   ]
  },
  {
   "cell_type": "markdown",
   "id": "22c7d3c2",
   "metadata": {},
   "source": [
    "## 2. Data Visualisation"
   ]
  },
  {
   "cell_type": "markdown",
   "id": "f07fd3f3",
   "metadata": {},
   "source": [
    "- This will display a selected image with red '+' marked at the specific landmark locations"
   ]
  },
  {
   "cell_type": "code",
   "execution_count": null,
   "id": "2b974857",
   "metadata": {},
   "outputs": [],
   "source": [
    "def show_points_on_image(image, points):\n",
    "    plt.imshow(image, cmap='gray')\n",
    "    plt.plot(points[:, 0], points[:, 1], '+', color='red')\n",
    "    plt.axis('off')\n",
    "    plt.tight_layout()\n",
    "    plt.show()"
   ]
  },
  {
   "cell_type": "markdown",
   "id": "781b8d4a",
   "metadata": {},
   "source": [
    "- Choose 3 images by random, with their corresponding landmark points:"
   ]
  },
  {
   "cell_type": "code",
   "execution_count": null,
   "id": "34f253cc",
   "metadata": {},
   "outputs": [],
   "source": [
    "for _ in range(3):\n",
    "    random_index = np.random.randint(0, images.shape[0])\n",
    "    image = images[random_index]\n",
    "    point_set = pts[random_index]\n",
    "    show_points_on_image(image, point_set)"
   ]
  },
  {
   "cell_type": "markdown",
   "id": "b4e66005",
   "metadata": {},
   "source": [
    "## 3. Mean Face"
   ]
  },
  {
   "cell_type": "markdown",
   "id": "8d89a245",
   "metadata": {},
   "source": [
    "- Get the mean of all images and the mean of all landmark points, and plot them together. This will give us a good idea of where abouts the points are coming:"
   ]
  },
  {
   "cell_type": "code",
   "execution_count": null,
   "id": "645f282c",
   "metadata": {},
   "outputs": [],
   "source": [
    "mean_image = np.mean(images, axis=0)\n",
    "mean_points = np.mean(pts, axis=0)\n",
    "\n",
    "show_points_on_image(mean_image, mean_points)"
   ]
  },
  {
   "cell_type": "markdown",
   "id": "d00dfd37",
   "metadata": {},
   "source": [
    "## 4. Statistical Analysis"
   ]
  },
  {
   "cell_type": "code",
   "execution_count": null,
   "id": "d070f34b",
   "metadata": {},
   "outputs": [],
   "source": [
    "landmark_std = np.std(pts, axis=0)\n",
    "\n",
    "plt.figure(figsize=(10, 4))"
   ]
  },
  {
   "cell_type": "markdown",
   "id": "3ea19eb1",
   "metadata": {},
   "source": [
    "- Plot the standard deviation of the x-coordinates:"
   ]
  },
  {
   "cell_type": "code",
   "execution_count": null,
   "id": "7e87604b",
   "metadata": {},
   "outputs": [],
   "source": [
    "plt.subplot(1, 2, 1)\n",
    "plt.bar(range(5), landmark_std[:, 0], color='steelblue')\n",
    "plt.title(\"X-Coordinate Standard Deviation\")\n",
    "plt.xlabel(\"Landmark Index\")\n",
    "plt.ylabel(\"Standard Deviation\")"
   ]
  },
  {
   "cell_type": "markdown",
   "id": "38c5694c",
   "metadata": {},
   "source": [
    "- Plot the standard deviation of the y-coordinates:"
   ]
  },
  {
   "cell_type": "code",
   "execution_count": null,
   "id": "c1a8cacd",
   "metadata": {},
   "outputs": [],
   "source": [
    "plt.subplot(1, 2, 2)\n",
    "plt.bar(range(5), landmark_std[:, 1], color='indianred')\n",
    "plt.title(\"Y-Coordinate Standard Deviation\")\n",
    "plt.xlabel(\"Landmark Index\")\n",
    "plt.ylabel(\"Standard Deviation\")"
   ]
  },
  {
   "cell_type": "code",
   "execution_count": null,
   "id": "3569b728",
   "metadata": {},
   "outputs": [],
   "source": [
    "plt.tight_layout()\n",
    "plt.show()"
   ]
  },
  {
   "cell_type": "markdown",
   "id": "f7ec2bc9",
   "metadata": {},
   "source": [
    "- Heatmap of landmarked positions:"
   ]
  },
  {
   "cell_type": "code",
   "execution_count": null,
   "id": "ac6c46b4",
   "metadata": {},
   "outputs": [],
   "source": [
    "# Flatten x and y coordinates into single arrays\n",
    "x_coords = pts[:, :, 0].flatten()\n",
    "y_coords = pts[:, :, 1].flatten()"
   ]
  },
  {
   "cell_type": "markdown",
   "id": "a09a9c83",
   "metadata": {},
   "source": [
    "- Create a 2D histogram to show where abouts landmarks are being positioned:"
   ]
  },
  {
   "cell_type": "code",
   "execution_count": null,
   "id": "c5e51906",
   "metadata": {},
   "outputs": [],
   "source": [
    "plt.figure(figsize=(6, 6))\n",
    "plt.hist2d(x_coords, y_coords, bins=50, cmap='hot')\n",
    "plt.title('Landmark Positions Density')\n",
    "plt.xlabel('X-Coordinate')\n",
    "plt.ylabel('Y-Coordinate')\n",
    "\n",
    "plt.colorbar(label='Number of Points')\n",
    "plt.gca().invert_yaxis() # match image coords\n",
    "plt.tight_layout()\n",
    "plt.show()"
   ]
  },
  {
   "cell_type": "markdown",
   "id": "f4c25366",
   "metadata": {},
   "source": [
    "## 5. Correlation Between Points"
   ]
  },
  {
   "cell_type": "markdown",
   "id": "1bd9e290",
   "metadata": {},
   "source": [
    "- Flatten landmarks into a single vector, and then compute the correlation matrix:"
   ]
  },
  {
   "cell_type": "code",
   "execution_count": null,
   "id": "91b59e82",
   "metadata": {},
   "outputs": [],
   "source": [
    "flattened_points = pts.reshape(pts.shape[0], -1)\n",
    "correlation_matrix = np.corrcoef(flattened_points.T)"
   ]
  },
  {
   "cell_type": "markdown",
   "id": "48816f12",
   "metadata": {},
   "source": [
    "- Plot the correlation matrix as a heatmap:"
   ]
  },
  {
   "cell_type": "code",
   "execution_count": null,
   "id": "01bfd26e",
   "metadata": {},
   "outputs": [],
   "source": [
    "plt.figure(figsize=(12, 10))\n",
    "sns.heatmap(corr, cmap='coolwarm', center=0)\n",
    "plt.title(\"Landmark Coordinates Correlation\")\n",
    "plt.tight_layout()\n",
    "plt.show()"
   ]
  }
 ],
 "metadata": {
  "kernelspec": {
   "display_name": "venv",
   "language": "python",
   "name": "python3"
  },
  "language_info": {
   "codemirror_mode": {
    "name": "ipython",
    "version": 3
   },
   "file_extension": ".py",
   "mimetype": "text/x-python",
   "name": "python",
   "nbconvert_exporter": "python",
   "pygments_lexer": "ipython3",
   "version": "3.13.3"
  }
 },
 "nbformat": 4,
 "nbformat_minor": 5
}
