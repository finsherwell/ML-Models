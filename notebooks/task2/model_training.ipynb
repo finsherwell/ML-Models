{
 "cells": [
  {
   "cell_type": "markdown",
   "id": "724c2411",
   "metadata": {},
   "source": [
    "# Face Alignment - Model Training"
   ]
  },
  {
   "cell_type": "markdown",
   "id": "a4437f34",
   "metadata": {},
   "source": [
    "- Add the project's root directory (two levels up) to the Python path so the modules can be imported, even if they arent in the current working directory:"
   ]
  },
  {
   "cell_type": "code",
   "execution_count": null,
   "id": "0e3b7048",
   "metadata": {},
   "outputs": [],
   "source": [
    "import sys\n",
    "import os\n",
    "\n",
    "project_root = os.path.abspath(os.path.join('..', '..'))\n",
    "if project_root not in sys.path:\n",
    "    sys.path.append(project_root)"
   ]
  },
  {
   "cell_type": "markdown",
   "id": "34efe0ed",
   "metadata": {},
   "source": [
    "- Import the required libraries and modules, as well as our utility functions:"
   ]
  },
  {
   "cell_type": "code",
   "execution_count": null,
   "id": "03b0fbcd",
   "metadata": {},
   "outputs": [],
   "source": [
    "import numpy as np\n",
    "import joblib\n",
    "import matplotlib.pyplot as plt\n",
    "import pandas as pd\n",
    "\n",
    "from sklearn.model_selection import train_test_split\n",
    "from sklearn.linear_model import LinearRegression, Ridge\n",
    "from sklearn.svm import SVR\n",
    "from sklearn.ensemble import RandomForestRegressor\n",
    "from sklearn.multioutput import MultiOutputRegressor\n",
    "from sklearn.metrics import mean_squared_error, r2_score\n",
    "from sklearn.decomposition import PCA\n",
    "\n",
    "from src.utils import load_config, get_project_root"
   ]
  },
  {
   "cell_type": "markdown",
   "id": "ee6ddd4b",
   "metadata": {},
   "source": [
    "- Load the config using the utility function. Get paths to relevant folders/files needed to save and retrieve files:"
   ]
  },
  {
   "cell_type": "code",
   "execution_count": null,
   "id": "b33ae267",
   "metadata": {},
   "outputs": [],
   "source": [
    "config = load_config()\n",
    "\n",
    "processed_train_data_path = config['data']['task2']['processed']['train']\n",
    "model_path = config['data']['task2']['models']\n",
    "\n",
    "processed_train_data = os.path.join(get_project_root(), processed_train_data_path.replace('/', os.sep), \"processed_face_alignment_train_images_features.npz\")\n",
    "selected_model_path = os.path.join(get_project_root(), model_path.replace('/', os.sep))"
   ]
  },
  {
   "cell_type": "markdown",
   "id": "bcea3f2e",
   "metadata": {},
   "source": [
    "- Load the training data. Extract the features and points from it. This will allow us to train a model as we can train it and then validate it:"
   ]
  },
  {
   "cell_type": "code",
   "execution_count": null,
   "id": "3f147ff4",
   "metadata": {},
   "outputs": [],
   "source": [
    "train_data = np.load(processed_train_data, allow_pickle=True)"
   ]
  },
  {
   "cell_type": "markdown",
   "id": "9179476c",
   "metadata": {},
   "source": [
    "- Check some of the training data - just for sampling and confirmation of points existing etc:"
   ]
  },
  {
   "cell_type": "code",
   "execution_count": null,
   "id": "452a94aa",
   "metadata": {},
   "outputs": [],
   "source": [
    "def show_points_on_image(image, points):\n",
    "    plt.imshow(image, cmap='gray')\n",
    "    plt.plot(points[:, 0], points[:, 1], '+', color='tomato')\n",
    "    plt.axis('off')\n",
    "    plt.tight_layout()\n",
    "    plt.show()"
   ]
  },
  {
   "cell_type": "code",
   "execution_count": null,
   "id": "6a31aec5",
   "metadata": {},
   "outputs": [],
   "source": [
    "images = train_data['images']\n",
    "pts = train_data['points']"
   ]
  },
  {
   "cell_type": "code",
   "execution_count": null,
   "id": "33c484d3",
   "metadata": {},
   "outputs": [],
   "source": [
    "for i in range(3):\n",
    "    max = images.shape[0]\n",
    "    random_index = np.random.randint(0, max)\n",
    "    image = images[random_index]\n",
    "    points = pts[random_index]\n",
    "    show_points_on_image(image, points)"
   ]
  },
  {
   "cell_type": "code",
   "execution_count": null,
   "id": "5be02fe6",
   "metadata": {},
   "outputs": [],
   "source": [
    "X = train_data['features']\n",
    "y = train_data['points'].reshape((train_data['points'].shape[0], -1))"
   ]
  },
  {
   "cell_type": "markdown",
   "id": "1c88c69d",
   "metadata": {},
   "source": [
    "- Split the data into a training and validation set. This uses a test size of 0.2, which means an 80/20 split between training and validation sets respectively:"
   ]
  },
  {
   "cell_type": "code",
   "execution_count": null,
   "id": "f3c99bf8",
   "metadata": {},
   "outputs": [],
   "source": [
    "X_train, X_val, y_train, y_val = train_test_split(X, y, test_size=0.2, random_state=12)"
   ]
  },
  {
   "cell_type": "markdown",
   "id": "48d062e9",
   "metadata": {},
   "source": [
    "- Use a PCA for dimensionality reduction - help to reduce the number of features so we can train our models and test the accuracy of the models quicker:"
   ]
  },
  {
   "cell_type": "code",
   "execution_count": null,
   "id": "63b5da7c",
   "metadata": {},
   "outputs": [],
   "source": [
    "pca = PCA(n_components=100)\n",
    "X_train = pca.fit_transform(X_train)\n",
    "X_val = pca.transform(X_val)"
   ]
  },
  {
   "cell_type": "markdown",
   "id": "dd2cd252",
   "metadata": {},
   "source": [
    "- Save the PCA so it can be reused - to make sure the training and testing is consistent:"
   ]
  },
  {
   "cell_type": "code",
   "execution_count": null,
   "id": "5660fbd5",
   "metadata": {},
   "outputs": [],
   "source": [
    "pca_filename = \"pca_transform.pkl\"\n",
    "pca_path = os.path.join(get_project_root(), model_path.replace('/', os.sep), pca_filename)\n",
    "joblib.dump(pca, pca_path)"
   ]
  },
  {
   "cell_type": "markdown",
   "id": "73af8ed8",
   "metadata": {},
   "source": [
    "- Specify our models in a dictionary - this allows us to easily iterate through each model without having to do this individually:"
   ]
  },
  {
   "cell_type": "code",
   "execution_count": null,
   "id": "83a7a461",
   "metadata": {},
   "outputs": [],
   "source": [
    "models = {\n",
    "    'Ridge Regression': Ridge(alpha=1.0),\n",
    "    'Linear Regression': LinearRegression(),\n",
    "    'SVR': MultiOutputRegressor(SVR(kernel='linear', C=0.1, max_iter=1000)),\n",
    "    'Random Forest': RandomForestRegressor(n_estimators=50, max_depth=10, max_features='sqrt', random_state=12)\n",
    "}"
   ]
  },
  {
   "cell_type": "markdown",
   "id": "1e043510",
   "metadata": {},
   "source": [
    "- Store results in an array. Setup a best model variable to store the best model until a new one, which is better will override this. Lowest MSE will be used to determine the best model:"
   ]
  },
  {
   "cell_type": "markdown",
   "id": "85d553fa",
   "metadata": {},
   "source": [
    "Using MSE will allow us to determine how well a model is being trained based on testing and validation sets."
   ]
  },
  {
   "cell_type": "code",
   "execution_count": null,
   "id": "675e3c4b",
   "metadata": {},
   "outputs": [],
   "source": [
    "results = []\n",
    "best_model = None\n",
    "lowest_mse = float('inf')"
   ]
  },
  {
   "cell_type": "markdown",
   "id": "b345fb39",
   "metadata": {},
   "source": [
    "- Iterate through our dictionary of models, make predictions and then find the mean squared error and r2 score based on the validation sets:"
   ]
  },
  {
   "cell_type": "code",
   "execution_count": null,
   "id": "5178ba94",
   "metadata": {},
   "outputs": [],
   "source": [
    "for name, model in models.items():\n",
    "    model.fit(X_train, y_train)\n",
    "    y_pred = model.predict(X_val)\n",
    "    \n",
    "    mse = mean_squared_error(y_val, y_pred)\n",
    "    r2 = r2_score(y_val, y_pred)\n",
    "\n",
    "    results.append({'Model': name, 'MSE': mse, 'R2': r2})\n",
    "\n",
    "    print(f\"\\n{name} Evaluation:\")\n",
    "    print(f\"Mean Squared Error: {mse:.4f}\")\n",
    "    print(f\"R2 Score: {r2:.4f}\")\n",
    "\n",
    "    if mse <= lowest_mse:\n",
    "        best_model = model\n",
    "        best_model_name = name\n",
    "        lowest_mse = mse"
   ]
  },
  {
   "cell_type": "markdown",
   "id": "efcc2cca",
   "metadata": {},
   "source": [
    "- Plot the results of the performances of the models:"
   ]
  },
  {
   "cell_type": "code",
   "execution_count": null,
   "id": "49558909",
   "metadata": {},
   "outputs": [],
   "source": [
    "results_df = pd.DataFrame(results).sort_values(by=\"MSE\")\n",
    "ax = results_df.plot(x='Model', y=['MSE', 'R2'], kind='bar', figsize=(10, 5), legend=True)\n",
    "plt.title('Model Performance (MSE)')\n",
    "plt.ylabel(\"Score\")\n",
    "plt.xticks(rotation=45)\n",
    "plt.grid(True)\n",
    "plt.tight_layout()\n",
    "plt.show()"
   ]
  },
  {
   "cell_type": "markdown",
   "id": "68be17f6",
   "metadata": {},
   "source": [
    "- Which model has been selected as the best model:"
   ]
  },
  {
   "cell_type": "code",
   "execution_count": null,
   "id": "14893dde",
   "metadata": {},
   "outputs": [],
   "source": [
    "print(f\"Best Model: {best_model}\")"
   ]
  },
  {
   "cell_type": "markdown",
   "id": "eae269cf",
   "metadata": {},
   "source": [
    "- Save the best model, which has also been trained using the data. This model will be saved to a directory which will then be accessed by the testing notebook to make our predictions:"
   ]
  },
  {
   "cell_type": "code",
   "execution_count": null,
   "id": "db829f84",
   "metadata": {},
   "outputs": [],
   "source": [
    "filename = \"best_model.pkl\"\n",
    "\n",
    "os.makedirs(selected_model_path, exist_ok=True)\n",
    "    \n",
    "full_path = os.path.join(selected_model_path, filename)\n",
    "\n",
    "joblib.dump(best_model, full_path)\n",
    "print(f\"Model Saved: {full_path}\")"
   ]
  }
 ],
 "metadata": {
  "kernelspec": {
   "display_name": "venv",
   "language": "python",
   "name": "python3"
  },
  "language_info": {
   "codemirror_mode": {
    "name": "ipython",
    "version": 3
   },
   "file_extension": ".py",
   "mimetype": "text/x-python",
   "name": "python",
   "nbconvert_exporter": "python",
   "pygments_lexer": "ipython3",
   "version": "3.12.4"
  }
 },
 "nbformat": 4,
 "nbformat_minor": 5
}
