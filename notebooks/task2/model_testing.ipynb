{
 "cells": [
  {
   "cell_type": "markdown",
   "id": "4462f910",
   "metadata": {},
   "source": [
    "# Face Alignment - Model Testing"
   ]
  },
  {
   "cell_type": "markdown",
   "id": "2bc18ca0",
   "metadata": {},
   "source": [
    "- Add the project's root directory (two levels up) to the Python path so the modules can be imported, even if they arent in the current working directory:"
   ]
  },
  {
   "cell_type": "code",
   "execution_count": null,
   "id": "75189be0",
   "metadata": {},
   "outputs": [],
   "source": [
    "import sys\n",
    "import os\n",
    "\n",
    "project_root = os.path.abspath(os.path.join('..', '..'))\n",
    "if project_root not in sys.path:\n",
    "    sys.path.append(project_root)"
   ]
  },
  {
   "cell_type": "markdown",
   "id": "64b566e7",
   "metadata": {},
   "source": [
    "- Import the required libraries and modules, as well as our utility functions:"
   ]
  },
  {
   "cell_type": "code",
   "execution_count": null,
   "id": "e5c890a1",
   "metadata": {},
   "outputs": [],
   "source": [
    "import numpy as np\n",
    "import joblib\n",
    "import matplotlib.pyplot as plt\n",
    "import pandas as pd\n",
    "\n",
    "from src.utils import load_config, get_project_root, save_as_npz"
   ]
  },
  {
   "cell_type": "markdown",
   "id": "26efe7d1",
   "metadata": {},
   "source": [
    "- Load the config using the utility function. Get paths to relevant folders/files needed to save and retrieve files:"
   ]
  },
  {
   "cell_type": "code",
   "execution_count": null,
   "id": "17f28d97",
   "metadata": {},
   "outputs": [],
   "source": [
    "config = load_config()\n",
    "\n",
    "test_path = config['data']['task2']['processed']['test']\n",
    "\n",
    "test_data_path = os.path.join(get_project_root(), test_path, 'processed_face_alignment_test_images_features.npz')\n",
    "model_path = os.path.join(get_project_root(), config['data']['task2']['models'], 'best_model.pkl')\n",
    "pca_path = os.path.join(get_project_root(), config['data']['task2']['models'], 'pca_transform.pkl')\n",
    "output_path = os.path.join(get_project_root(), config['data']['task2']['results'])\n",
    "\n",
    "results_output_path = os.path.join(get_project_root(), output_path.replace('/', os.sep))"
   ]
  },
  {
   "cell_type": "markdown",
   "id": "bf2b0c3d",
   "metadata": {},
   "source": [
    "- Load the trained model from the specified filepath. Load the test data that we want to produce the results on. For consistency, I also decided to save and load the same PCA:"
   ]
  },
  {
   "cell_type": "code",
   "execution_count": null,
   "id": "ef345108",
   "metadata": {},
   "outputs": [],
   "source": [
    "best_model = joblib.load(model_path)\n",
    "test_data = np.load(test_data_path, allow_pickle=True)\n",
    "pca = joblib.load(pca_path)"
   ]
  },
  {
   "cell_type": "markdown",
   "id": "9ff924a3",
   "metadata": {},
   "source": [
    "- References to the features and images of the test data. Our images are provided but the features were extracted during an earlier stage:"
   ]
  },
  {
   "cell_type": "code",
   "execution_count": null,
   "id": "d2441190",
   "metadata": {},
   "outputs": [],
   "source": [
    "X_test = test_data['features']\n",
    "images = test_data['images']"
   ]
  },
  {
   "cell_type": "markdown",
   "id": "27f76016",
   "metadata": {},
   "source": [
    "- Apply the PCA to the test data, and make predictions using the trained model. Reshape the predictions into a 3D array to match the format:"
   ]
  },
  {
   "cell_type": "code",
   "execution_count": null,
   "id": "25e8f672",
   "metadata": {},
   "outputs": [],
   "source": [
    "X_test_pca = pca.transform(X_test)\n",
    "\n",
    "y_pred = best_model.predict(X_test_pca)\n",
    "y_pred_reshaped = y_pred.reshape((y_pred.shape[0], -1, 2)) "
   ]
  },
  {
   "cell_type": "markdown",
   "id": "952fdc9b",
   "metadata": {},
   "source": [
    "- Produce some samples of our predicted landmarks on the provided images in the test set. This will give us a good idea as to whether our model is working as effectively as desired:"
   ]
  },
  {
   "cell_type": "code",
   "execution_count": null,
   "id": "6a33806e",
   "metadata": {},
   "outputs": [],
   "source": [
    "for i in range(3):\n",
    "    plt.imshow(images[i], cmap='gray')\n",
    "    plt.scatter(y_pred_reshaped[i][:, 0], y_pred_reshaped[i][:, 1], c='r', s=10, label='Prediction')\n",
    "    plt.title(f\"Predicted Landmarks - Sample {i}\")\n",
    "    plt.axis('off')\n",
    "    plt.legend()\n",
    "    plt.show()"
   ]
  },
  {
   "cell_type": "markdown",
   "id": "5cde7112",
   "metadata": {},
   "source": [
    "- Save the data as a CSV file. This CSV file will contain the results of our predictions."
   ]
  },
  {
   "cell_type": "code",
   "execution_count": null,
   "id": "fd7b3d87",
   "metadata": {},
   "outputs": [],
   "source": [
    "image_flattened = images.reshape(images.shape[0], -1)\n",
    "points_flattened = y_pred_reshaped.reshape(y_pred_reshaped.shape[0], -1)"
   ]
  },
  {
   "cell_type": "code",
   "execution_count": null,
   "id": "58ff1490",
   "metadata": {},
   "outputs": [],
   "source": [
    "df_images = pd.DataFrame(image_flattened)\n",
    "df_points = pd.DataFrame(points_flattened)\n",
    "\n",
    "df_combined = pd.concat([df_images, df_points], axis=1)\n",
    "df_combined.head()\n",
    "#df_combined.columns = [f\"Pixel_{i}\" for i in range(df_images.shape[1])] + [f\"Landmark_{i//2}_{'X' if i%2 == 0 else 'Y'}\" for i in range(df_points.shape[1])]"
   ]
  },
  {
   "cell_type": "code",
   "execution_count": null,
   "id": "09325976",
   "metadata": {},
   "outputs": [],
   "source": [
    "save_as_csv(df_combined, results_output_path, \"results.csv\")"
   ]
  }
 ],
 "metadata": {
  "kernelspec": {
   "display_name": "venv",
   "language": "python",
   "name": "python3"
  },
  "language_info": {
   "codemirror_mode": {
    "name": "ipython",
    "version": 3
   },
   "file_extension": ".py",
   "mimetype": "text/x-python",
   "name": "python",
   "nbconvert_exporter": "python",
   "pygments_lexer": "ipython3",
   "version": "3.13.3"
  }
 },
 "nbformat": 4,
 "nbformat_minor": 5
}
