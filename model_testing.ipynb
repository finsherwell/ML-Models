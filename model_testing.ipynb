{
 "cells": [
  {
   "cell_type": "markdown",
   "id": "43392e50",
   "metadata": {},
   "source": [
    "# Spam Detection - Model Testing"
   ]
  },
  {
   "cell_type": "code",
   "execution_count": null,
   "id": "305ea0ea",
   "metadata": {},
   "outputs": [],
   "source": [
    "import sys\n",
    "import os\n",
    "\n",
    "project_root = os.path.abspath(os.path.join('..', '..'))\n",
    "if project_root not in sys.path:\n",
    "    sys.path.append(project_root)"
   ]
  },
  {
   "cell_type": "code",
   "execution_count": null,
   "id": "2efdc918",
   "metadata": {},
   "outputs": [],
   "source": [
    "import pandas as pd\n",
    "import numpy as np\n",
    "import joblib\n",
    "\n",
    "from src.utils import load_config, get_project_root, save_as_csv"
   ]
  },
  {
   "cell_type": "code",
   "execution_count": null,
   "id": "989ab709",
   "metadata": {},
   "outputs": [],
   "source": [
    "config = load_config()\n",
    "\n",
    "test_path = config['data']['task1']['processed']['test']\n",
    "model_path = os.path.join(get_project_root(), config['data']['task1']['models'], 'best_model.pkl')\n",
    "output_path = os.path.join(get_project_root(), config['data']['task1']['results'])\n",
    "\n",
    "processed_features_test_path = os.path.join(get_project_root(), test_path, \"spam_detection_test_processed_features.csv\")"
   ]
  },
  {
   "cell_type": "code",
   "execution_count": null,
   "id": "81bf6bc6",
   "metadata": {},
   "outputs": [],
   "source": [
    "test_df = pd.read_csv(processed_features_test_path)\n",
    "model = joblib.load(model_path)"
   ]
  },
  {
   "cell_type": "code",
   "execution_count": null,
   "id": "5a0f0f51",
   "metadata": {},
   "outputs": [],
   "source": [
    "X_test = test_df.drop(columns=['clean_text'], errors='ignore')\n",
    "predictions = model.predict(X_test)"
   ]
  },
  {
   "cell_type": "code",
   "execution_count": null,
   "id": "cebffd15",
   "metadata": {},
   "outputs": [],
   "source": [
    "test_df['label'] = predictions\n",
    "ordered_cols = ['label'] + [col for col in test_df.columns if col != 'label']\n",
    "test_df = test_df[ordered_cols]"
   ]
  },
  {
   "cell_type": "code",
   "execution_count": null,
   "id": "ebdab628",
   "metadata": {},
   "outputs": [],
   "source": [
    "print(test_df[['clean_text', 'label']].head(30)) "
   ]
  },
  {
   "cell_type": "code",
   "execution_count": null,
   "id": "6c80f5ff",
   "metadata": {},
   "outputs": [],
   "source": [
    "save_as_csv(test_df, output_path, \"results.csv\")\n",
    "\n",
    "print(f\"Results Saved\")"
   ]
  }
 ],
 "metadata": {
  "kernelspec": {
   "display_name": "venv",
   "language": "python",
   "name": "python3"
  },
  "language_info": {
   "codemirror_mode": {
    "name": "ipython",
    "version": 3
   },
   "file_extension": ".py",
   "mimetype": "text/x-python",
   "name": "python",
   "nbconvert_exporter": "python",
   "pygments_lexer": "ipython3",
   "version": "3.13.3"
  }
 },
 "nbformat": 4,
 "nbformat_minor": 5
}
